{
 "cells": [
  {
   "cell_type": "code",
   "execution_count": 1,
   "id": "27a16dab",
   "metadata": {},
   "outputs": [
    {
     "name": "stderr",
     "output_type": "stream",
     "text": [
      "/var/folders/9j/g8mv42fn5p13f5g2f8mxlplc0000gp/T/ipykernel_91005/3628126482.py:3: TqdmWarning: IProgress not found. Please update jupyter and ipywidgets. See https://ipywidgets.readthedocs.io/en/stable/user_install.html\n",
      "  from tqdm.autonotebook import tqdm\n"
     ]
    }
   ],
   "source": [
    "import gym\n",
    "import numpy as np\n",
    "from tqdm.autonotebook import tqdm\n",
    "import matplotlib.pyplot as plt"
   ]
  },
  {
   "cell_type": "code",
   "execution_count": 2,
   "id": "3b99e4fb",
   "metadata": {},
   "outputs": [],
   "source": [
    "NUM_ITERATIONS = 100_000"
   ]
  },
  {
   "cell_type": "code",
   "execution_count": 3,
   "id": "a728ba20",
   "metadata": {},
   "outputs": [],
   "source": [
    "env = gym.make(\"Blackjack-v1\", natural=True)\n",
    "observation, info = env.reset(seed=42)\n",
    "\n",
    "for _ in range(1000):\n",
    "    action = env.action_space.sample()\n",
    "    observation, reward, terminated, truncated, info = env.step(action)\n",
    "\n",
    "    if terminated or truncated:\n",
    "        observation, info = env.reset()\n",
    "env.close()"
   ]
  },
  {
   "cell_type": "code",
   "execution_count": 4,
   "id": "04e16208",
   "metadata": {},
   "outputs": [
    {
     "data": {
      "text/plain": [
       "(20, 2, True)"
      ]
     },
     "execution_count": 4,
     "metadata": {},
     "output_type": "execute_result"
    }
   ],
   "source": [
    "observation, info = env.reset()\n",
    "observation"
   ]
  },
  {
   "cell_type": "markdown",
   "id": "7d5fd926",
   "metadata": {},
   "source": [
    "# Часть 1"
   ]
  },
  {
   "cell_type": "markdown",
   "id": "db6c9646",
   "metadata": {},
   "source": [
    "- Рассмотрим очень простую стратегию: говорить stand, если у нас на руках комбинация в 19, 20 или 21 очко, во всех остальных случаях говорить hit. Используйте методы Монте-Карло, чтобы оценить выигрыш от этой стратегии.\n",
    "- Реализуйте метод обучения с подкреплением без модели (можно Q-обучение, но рекомендую попробовать и другие, например Monte Carlo control) для обучения стратегии в блекджеке, используя окружение BlackjackEnv из OpenAI Gym.\n",
    "- Сколько выигрывает казино у вашей стратегии? Нарисуйте графики среднего дохода вашего метода (усреднённого по крайней мере по 100000 раздач, а лучше больше) по ходу обучения. Попробуйте подобрать оптимальные гиперпараметры.\n"
   ]
  },
  {
   "cell_type": "markdown",
   "id": "2fd70624",
   "metadata": {},
   "source": [
    "### Простая стратегия"
   ]
  },
  {
   "cell_type": "code",
   "execution_count": 5,
   "id": "b3f54867",
   "metadata": {},
   "outputs": [],
   "source": [
    "env = gym.make(\"Blackjack-v1\", natural=True)"
   ]
  },
  {
   "cell_type": "code",
   "execution_count": 6,
   "id": "c4b4f137",
   "metadata": {},
   "outputs": [],
   "source": [
    "def get_action(observation):\n",
    "    \"\"\"Return 1 if combination less than 19 otherwise 0.\"\"\"\n",
    "\n",
    "    action = 0\n",
    "    if observation[0] < 19:\n",
    "        action = 1\n",
    "\n",
    "    return action\n",
    "\n",
    "\n",
    "def check_simple_strategy():\n",
    "\n",
    "    rewards = []\n",
    "\n",
    "    for _ in tqdm(range(NUM_ITERATIONS), total=NUM_ITERATIONS):\n",
    "\n",
    "        observation, info = env.reset()\n",
    "\n",
    "        terminated = False\n",
    "        while not terminated:\n",
    "\n",
    "            action = get_action(observation)\n",
    "\n",
    "            observation, reward, terminated, truncated, info = env.step(action)\n",
    "\n",
    "        rewards.append(reward)\n",
    "\n",
    "    return rewards"
   ]
  },
  {
   "cell_type": "code",
   "execution_count": 7,
   "id": "abb922e2",
   "metadata": {},
   "outputs": [
    {
     "name": "stderr",
     "output_type": "stream",
     "text": [
      "100%|██████████████████████████████████████████████████████████████████████████████████████████████████████████| 100000/100000 [00:07<00:00, 12624.23it/s]\n"
     ]
    }
   ],
   "source": [
    "rewards = check_simple_strategy()"
   ]
  },
  {
   "cell_type": "code",
   "execution_count": 8,
   "id": "27303f92",
   "metadata": {},
   "outputs": [
    {
     "name": "stdout",
     "output_type": "stream",
     "text": [
      "Средняя награда для простой стратегии: -0.20026\n"
     ]
    }
   ],
   "source": [
    "mean_reward = np.mean(rewards)\n",
    "print(f\"Средняя награда для простой стратегии: {mean_reward}\")"
   ]
  },
  {
   "cell_type": "markdown",
   "id": "6417e8dd",
   "metadata": {},
   "source": [
    "### Q-learning"
   ]
  },
  {
   "cell_type": "code",
   "execution_count": 9,
   "id": "1f92c2dd",
   "metadata": {},
   "outputs": [],
   "source": [
    "ACTIONS = [False, True]\n",
    "MIN_PLAYER_CARD_VALUE = 4\n",
    "MAX_PLAYER_CARD_VALUE = 31\n",
    "MIN_DEALER_CARD_VALUE = 1\n",
    "MAX_DEALER_CARD_VALUE = 10"
   ]
  },
  {
   "cell_type": "code",
   "execution_count": 10,
   "id": "8db1595c",
   "metadata": {},
   "outputs": [],
   "source": [
    "def get_all_states():\n",
    "    states = []\n",
    "\n",
    "    for player_val in range(MIN_PLAYER_CARD_VALUE, MAX_PLAYER_CARD_VALUE + 1):\n",
    "        for dealer_val in range(MIN_DEALER_CARD_VALUE, MAX_DEALER_CARD_VALUE + 1):\n",
    "            states.append((player_val, dealer_val, False))\n",
    "            if 12 <= player_val <= 21:\n",
    "                states.append((player_val, dealer_val, True))\n",
    "\n",
    "    return states"
   ]
  },
  {
   "cell_type": "code",
   "execution_count": 11,
   "id": "6b3875ce",
   "metadata": {},
   "outputs": [],
   "source": [
    "STATES = get_all_states()"
   ]
  },
  {
   "cell_type": "code",
   "execution_count": 12,
   "id": "6c947124",
   "metadata": {},
   "outputs": [],
   "source": [
    "STATES_IDX = {s: i for i, s in enumerate(STATES)}"
   ]
  },
  {
   "cell_type": "code",
   "execution_count": 13,
   "id": "300f9b91",
   "metadata": {},
   "outputs": [],
   "source": [
    "def get_action(Q, state_idx):\n",
    "    pi = np.argmax(Q, axis=1)\n",
    "\n",
    "    if np.random.rand() > epsilon:\n",
    "        return pi[state_idx]\n",
    "\n",
    "    return np.random.randint(len(ACTIONS))\n",
    "\n",
    "\n",
    "def q_learning(alpha, epsilon, gamma, num_iterations=NUM_ITERATIONS):\n",
    "    Q = np.zeros((len(STATES), len(ACTIONS)))\n",
    "\n",
    "    for _ in tqdm(\n",
    "        range(num_iterations),\n",
    "        total=num_iterations,\n",
    "        desc=f\"alpha={alpha}, epsilon={epsilon}, gamma={gamma}\",\n",
    "    ):\n",
    "\n",
    "        observation, info = env.reset()\n",
    "        state_idx = STATES_IDX[observation]\n",
    "\n",
    "        terminated = False\n",
    "        while not terminated:\n",
    "            action = get_action(Q, state_idx)\n",
    "\n",
    "            observation, reward, terminated, truncated, info = env.step(action)\n",
    "\n",
    "            next_state_idx = STATES_IDX[observation]\n",
    "\n",
    "            Q[state_idx][action] = Q[state_idx][action] + alpha * (\n",
    "                reward + gamma * np.max(Q[next_state_idx]) - Q[state_idx][action]\n",
    "            )\n",
    "\n",
    "            observation = next_state_idx\n",
    "\n",
    "    return Q"
   ]
  },
  {
   "cell_type": "code",
   "execution_count": 14,
   "id": "cb1cd418",
   "metadata": {},
   "outputs": [
    {
     "name": "stderr",
     "output_type": "stream",
     "text": [
      "alpha=0.01, epsilon=0.1, gamma=1: 100%|████████████████████████████████████████████████████████████████████████| 100000/100000 [00:09<00:00, 10533.83it/s]\n"
     ]
    }
   ],
   "source": [
    "alpha = 0.01\n",
    "epsilon = 0.1\n",
    "gamma = 1\n",
    "Q = q_learning(alpha, epsilon, gamma)"
   ]
  },
  {
   "cell_type": "code",
   "execution_count": 15,
   "id": "0924f34a",
   "metadata": {},
   "outputs": [],
   "source": [
    "def check_q_learning_strategy(Q, num_iterations=NUM_ITERATIONS):\n",
    "\n",
    "    pi = np.argmax(Q, axis=1)\n",
    "\n",
    "    rewards = []\n",
    "\n",
    "    for _ in range(num_iterations):\n",
    "\n",
    "        observation, info = env.reset()\n",
    "        state_idx = STATES_IDX[observation]\n",
    "\n",
    "        terminated = False\n",
    "        while not terminated:\n",
    "\n",
    "            action = pi[state_idx]\n",
    "\n",
    "            observation, reward, terminated, truncated, info = env.step(action)\n",
    "\n",
    "            state_idx = STATES_IDX[observation]\n",
    "\n",
    "        rewards.append(reward)\n",
    "\n",
    "    return rewards"
   ]
  },
  {
   "cell_type": "code",
   "execution_count": 16,
   "id": "0870b991",
   "metadata": {},
   "outputs": [],
   "source": [
    "rewards = check_q_learning_strategy(Q)"
   ]
  },
  {
   "cell_type": "code",
   "execution_count": 17,
   "id": "13c91413",
   "metadata": {},
   "outputs": [
    {
     "name": "stdout",
     "output_type": "stream",
     "text": [
      "Средняя награда (q-learning): -0.11983\n"
     ]
    }
   ],
   "source": [
    "mean_reward = np.mean(rewards)\n",
    "print(f\"Средняя награда (q-learning): {mean_reward}\")"
   ]
  },
  {
   "cell_type": "code",
   "execution_count": 18,
   "id": "0ef44adf",
   "metadata": {},
   "outputs": [
    {
     "name": "stderr",
     "output_type": "stream",
     "text": [
      "alpha=0.001, epsilon=0.8, gamma=1: 100%|███████████████████████████████████████████████████████████████████████| 100000/100000 [00:09<00:00, 10887.72it/s]\n",
      "alpha=0.002, epsilon=0.8, gamma=1: 100%|███████████████████████████████████████████████████████████████████████| 100000/100000 [00:09<00:00, 10896.70it/s]\n",
      "alpha=0.003, epsilon=0.8, gamma=1: 100%|███████████████████████████████████████████████████████████████████████| 100000/100000 [00:09<00:00, 10817.34it/s]\n",
      "alpha=0.004, epsilon=0.8, gamma=1: 100%|███████████████████████████████████████████████████████████████████████| 100000/100000 [00:09<00:00, 10843.54it/s]\n",
      "alpha=0.001, epsilon=0.9, gamma=1: 100%|███████████████████████████████████████████████████████████████████████| 100000/100000 [00:09<00:00, 10920.92it/s]\n",
      "alpha=0.002, epsilon=0.9, gamma=1: 100%|███████████████████████████████████████████████████████████████████████| 100000/100000 [00:09<00:00, 10898.60it/s]\n",
      "alpha=0.003, epsilon=0.9, gamma=1: 100%|███████████████████████████████████████████████████████████████████████| 100000/100000 [00:09<00:00, 10910.01it/s]\n",
      "alpha=0.004, epsilon=0.9, gamma=1: 100%|███████████████████████████████████████████████████████████████████████| 100000/100000 [00:09<00:00, 10886.17it/s]\n"
     ]
    }
   ],
   "source": [
    "epsilon_lst = np.arange(0.8, 1, 0.1)\n",
    "alpha_lst = np.arange(0.001, 0.005, 0.001)\n",
    "gamma = 1\n",
    "\n",
    "params = []\n",
    "mean_rewards = []\n",
    "for epsilon in epsilon_lst:\n",
    "    for alpha in alpha_lst:\n",
    "        Q = q_learning(alpha, epsilon, gamma)\n",
    "        rewards = check_q_learning_strategy(Q)\n",
    "        mean_reward = np.mean(rewards)\n",
    "        \n",
    "        params.append((alpha, epsilon, gamma))\n",
    "        mean_rewards.append(mean_reward)"
   ]
  },
  {
   "cell_type": "code",
   "execution_count": 19,
   "id": "95102ba5",
   "metadata": {},
   "outputs": [
    {
     "name": "stdout",
     "output_type": "stream",
     "text": [
      "Best params: alpha=0.004, epsilon=0.8, gamma=1\n"
     ]
    }
   ],
   "source": [
    "idx = np.argmax(mean_rewards)\n",
    "best_alpha, best_epsilon, best_gamma = params[idx]\n",
    "print(f\"Best params: alpha={best_alpha}, epsilon={best_epsilon}, gamma={best_gamma}\")"
   ]
  },
  {
   "cell_type": "code",
   "execution_count": 20,
   "id": "5a0d641e",
   "metadata": {},
   "outputs": [
    {
     "name": "stderr",
     "output_type": "stream",
     "text": [
      "alpha=0.004, epsilon=0.8, gamma=1: 100%|███████████████████████████████████████████████████████████████████████| 100000/100000 [00:09<00:00, 10895.24it/s]\n"
     ]
    },
    {
     "name": "stdout",
     "output_type": "stream",
     "text": [
      "Средняя награда с подобранными параметрами (q-learning): -0.08431\n"
     ]
    }
   ],
   "source": [
    "Q = q_learning(best_alpha, best_epsilon, best_gamma)\n",
    "rewards = check_q_learning_strategy(Q)\n",
    "mean_reward = np.mean(rewards)\n",
    "print(f\"Средняя награда с подобранными параметрами (q-learning): {mean_reward}\")"
   ]
  },
  {
   "cell_type": "code",
   "execution_count": 23,
   "id": "eb1f8ac0",
   "metadata": {},
   "outputs": [
    {
     "name": "stderr",
     "output_type": "stream",
     "text": [
      "100%|█████████████████████████████████████████████████████████████████████████████████████████████████████████████████████| 30/30 [03:40<00:00,  7.36s/it]\n"
     ]
    },
    {
     "data": {
      "image/png": "[encoded data removed]",
      "text/plain": [
       "<Figure size 640x480 with 1 Axes>"
      ]
     },
     "metadata": {},
     "output_type": "display_data"
    }
   ],
   "source": [
    "def plot(num_iterations=1000, k=30):\n",
    "    rewards_lst = []\n",
    "    alpha, epsilon, gamma = best_alpha, best_epsilon, best_gamma\n",
    "    for _ in tqdm(range(k), total=k):\n",
    "        one_iter_rewards = []\n",
    "        Q = np.zeros((len(STATES), len(ACTIONS)))\n",
    "\n",
    "        for _ in range(num_iterations):\n",
    "\n",
    "            observation, info = env.reset()\n",
    "            state_idx = STATES_IDX[observation]\n",
    "\n",
    "            terminated = False\n",
    "            while not terminated:\n",
    "                action = get_action(Q, state_idx)\n",
    "\n",
    "                observation, reward, terminated, truncated, info = env.step(action)\n",
    "\n",
    "                next_state_idx = STATES_IDX[observation]\n",
    "\n",
    "                Q[state_idx][action] = Q[state_idx][action] + alpha * (\n",
    "                    reward + gamma * np.max(Q[next_state_idx]) - Q[state_idx][action]\n",
    "                )\n",
    "\n",
    "                observation = next_state_idx\n",
    "                \n",
    "            rewards = check_q_learning_strategy(Q, 100)\n",
    "            one_iter_rewards.append(np.mean(rewards))\n",
    "            \n",
    "        rewards_lst.append(one_iter_rewards)\n",
    "        \n",
    "    mean_rewards_lst = np.mean(rewards_lst, axis=0)\n",
    "\n",
    "    plt.title(\"Средний доход\")\n",
    "    plt.plot(range(num_iterations), mean_rewards_lst)\n",
    "    plt.xlabel(\"Число итераций\")\n",
    "    plt.ylabel(\"Средний доход\")\n",
    "    plt.show()\n",
    "    \n",
    "plot()"
   ]
  },
  {
   "cell_type": "markdown",
   "id": "be9a92f2",
   "metadata": {},
   "source": [
    "# Часть 2"
   ]
  },
  {
   "cell_type": "markdown",
   "id": "de475c37",
   "metadata": {},
   "source": [
    "В базовый блекджек, описанный в предыдущем разделе, обыграть казино вряд ли получится. Но, к счастью, на этом история не заканчивается. Описанные выше правила были упрощёнными, а на самом деле у игрока есть ещё и другие возможности. Реализовывать split может оказаться непросто, поэтому давайте ограничимся удвоением ставки. Итак, у игрока появляется дополнительное действие:\n",
    "- double — удвоить ставку; при этом больше действий делать нельзя, игроку выдаётся ровно одна дополнительная карта, а выигрыш или проигрыш удваивается.\n",
    "\n",
    "4. Реализуйте новый вариант блекджека на основе окружения BlackjackEnv из OpenAI Gym, в котором разрешено удвоение ставки.\n",
    "5. Реализуйте метод обучения с подкреплением без модели для этого варианта, постройте графики, аналогичные п.2.\n"
   ]
  },
  {
   "cell_type": "code",
   "execution_count": 24,
   "id": "294308eb",
   "metadata": {},
   "outputs": [],
   "source": [
    "from typing import Optional\n",
    "\n",
    "import gym\n",
    "from gym import spaces\n",
    "\n",
    "\n",
    "def cmp(a, b):\n",
    "    return float(a > b) - float(a < b)\n",
    "\n",
    "\n",
    "# 1 = Ace, 2-10 = Number cards, Jack/Queen/King = 10\n",
    "deck = [1, 2, 3, 4, 5, 6, 7, 8, 9, 10, 10, 10, 10]\n",
    "\n",
    "\n",
    "def draw_card(np_random):\n",
    "    return int(np_random.choice(deck))\n",
    "\n",
    "\n",
    "def draw_hand(np_random):\n",
    "    return [draw_card(np_random), draw_card(np_random)]\n",
    "\n",
    "\n",
    "def usable_ace(hand):  # Does this hand have a usable ace?\n",
    "    return 1 in hand and sum(hand) + 10 <= 21\n",
    "\n",
    "\n",
    "def sum_hand(hand):  # Return current hand total\n",
    "    if usable_ace(hand):\n",
    "        return sum(hand) + 10\n",
    "    return sum(hand)\n",
    "\n",
    "\n",
    "def is_bust(hand):  # Is this hand a bust?\n",
    "    return sum_hand(hand) > 21\n",
    "\n",
    "\n",
    "def score(hand):  # What is the score of this hand (0 if bust)\n",
    "    return 0 if is_bust(hand) else sum_hand(hand)\n",
    "\n",
    "\n",
    "def is_natural(hand):  # Is this hand a natural blackjack?\n",
    "    return sorted(hand) == [1, 10]\n",
    "\n",
    "\n",
    "class BlackjackEnv(gym.Env):\n",
    "    \"\"\"\n",
    "    Blackjack is a card game where the goal is to beat the dealer by obtaining cards\n",
    "    that sum to closer to 21 (without going over 21) than the dealers cards.\n",
    "\n",
    "    ### Description\n",
    "    Card Values:\n",
    "\n",
    "    - Face cards (Jack, Queen, King) have a point value of 10.\n",
    "    - Aces can either count as 11 (called a 'usable ace') or 1.\n",
    "    - Numerical cards (2-9) have a value equal to their number.\n",
    "\n",
    "    This game is played with an infinite deck (or with replacement).\n",
    "    The game starts with the dealer having one face up and one face down card,\n",
    "    while the player has two face up cards.\n",
    "\n",
    "    The player can request additional cards (hit, action=1) until they decide to stop (stick, action=0)\n",
    "    or exceed 21 (bust, immediate loss).\n",
    "    After the player sticks, the dealer reveals their facedown card, and draws\n",
    "    until their sum is 17 or greater.  If the dealer goes bust, the player wins.\n",
    "    If neither the player nor the dealer busts, the outcome (win, lose, draw) is\n",
    "    decided by whose sum is closer to 21.\n",
    "\n",
    "    ### Action Space\n",
    "    There are two actions: stick (0), and hit (1).\n",
    "\n",
    "    ### Observation Space\n",
    "    The observation consists of a 3-tuple containing: the player's current sum,\n",
    "    the value of the dealer's one showing card (1-10 where 1 is ace),\n",
    "    and whether the player holds a usable ace (0 or 1).\n",
    "\n",
    "    This environment corresponds to the version of the blackjack problem\n",
    "    described in Example 5.1 in Reinforcement Learning: An Introduction\n",
    "    by Sutton and Barto (http://incompleteideas.net/book/the-book-2nd.html).\n",
    "\n",
    "    ### Rewards\n",
    "    - win game: +1\n",
    "    - lose game: -1\n",
    "    - draw game: 0\n",
    "    - win game with natural blackjack:\n",
    "\n",
    "        +1.5 (if <a href=\"#nat\">natural</a> is True)\n",
    "\n",
    "        +1 (if <a href=\"#nat\">natural</a> is False)\n",
    "\n",
    "    ### Arguments\n",
    "\n",
    "    ```\n",
    "    gym.make('Blackjack-v1', natural=False, sab=False)\n",
    "    ```\n",
    "\n",
    "    <a id=\"nat\">`natural=False`</a>: Whether to give an additional reward for\n",
    "    starting with a natural blackjack, i.e. starting with an ace and ten (sum is 21).\n",
    "\n",
    "    <a id=\"sab\">`sab=False`</a>: Whether to follow the exact rules outlined in the book by\n",
    "    Sutton and Barto. If `sab` is `True`, the keyword argument `natural` will be ignored.\n",
    "    If the player achieves a natural blackjack and the dealer does not, the player\n",
    "    will win (i.e. get a reward of +1). The reverse rule does not apply.\n",
    "    If both the player and the dealer get a natural, it will be a draw (i.e. reward 0).\n",
    "\n",
    "    ### Version History\n",
    "    * v0: Initial versions release (1.0.0)\n",
    "    \"\"\"\n",
    "\n",
    "    metadata = {\n",
    "        \"render_modes\": [\"human\", \"rgb_array\"],\n",
    "        \"render_fps\": 4,\n",
    "    }\n",
    "\n",
    "    def __init__(self, render_mode: Optional[str] = None, natural=False, sab=False):\n",
    "        self.action_space = spaces.Discrete(3)\n",
    "        self.observation_space = spaces.Tuple(\n",
    "            (spaces.Discrete(32), spaces.Discrete(11), spaces.Discrete(2))\n",
    "        )\n",
    "\n",
    "        # Flag to payout 1.5 on a \"natural\" blackjack win, like casino rules\n",
    "        # Ref: http://www.bicyclecards.com/how-to-play/blackjack/\n",
    "        self.natural = natural\n",
    "\n",
    "        # Flag for full agreement with the (Sutton and Barto, 2018) definition. Overrides self.natural\n",
    "        self.sab = sab\n",
    "\n",
    "        self.render_mode = render_mode\n",
    "\n",
    "    def step(self, action):\n",
    "        assert self.action_space.contains(action)\n",
    "        if action == 1:  # hit: add a card to players hand and return\n",
    "            self.player.append(draw_card(self.np_random))\n",
    "            if is_bust(self.player):\n",
    "                terminated = True\n",
    "                reward = -1.0\n",
    "            else:\n",
    "                terminated = False\n",
    "                reward = 0.0\n",
    "        elif action == 2:\n",
    "            self.player.append(draw_card(self.np_random))\n",
    "            terminated = True\n",
    "            while sum_hand(self.dealer) < 17:\n",
    "                self.dealer.append(draw_card(self.np_random))\n",
    "            reward = 2 * cmp(score(self.player), score(self.dealer))\n",
    "        else:  # stick: play out the dealers hand, and score\n",
    "            terminated = True\n",
    "            while sum_hand(self.dealer) < 17:\n",
    "                self.dealer.append(draw_card(self.np_random))\n",
    "            reward = cmp(score(self.player), score(self.dealer))\n",
    "            if self.sab and is_natural(self.player) and not is_natural(self.dealer):\n",
    "                # Player automatically wins. Rules consistent with S&B\n",
    "                reward = 1.0\n",
    "            elif (\n",
    "                not self.sab\n",
    "                and self.natural\n",
    "                and is_natural(self.player)\n",
    "                and reward == 1.0\n",
    "            ):\n",
    "                # Natural gives extra points, but doesn't autowin. Legacy implementation\n",
    "                reward = 1.5\n",
    "\n",
    "        if self.render_mode == \"human\":\n",
    "            self.render()\n",
    "        return self._get_obs(), reward, terminated, False, {}\n",
    "\n",
    "    def _get_obs(self):\n",
    "        return (sum_hand(self.player), self.dealer[0], usable_ace(self.player))\n",
    "\n",
    "    def reset(\n",
    "        self,\n",
    "        seed: Optional[int] = None,\n",
    "        options: Optional[dict] = None,\n",
    "    ):\n",
    "        super().reset(seed=seed)\n",
    "        self.dealer = draw_hand(self.np_random)\n",
    "        self.player = draw_hand(self.np_random)\n",
    "\n",
    "        _, dealer_card_value, _ = self._get_obs()\n",
    "\n",
    "        suits = [\"C\", \"D\", \"H\", \"S\"]\n",
    "        self.dealer_top_card_suit = self.np_random.choice(suits)\n",
    "\n",
    "        if dealer_card_value == 1:\n",
    "            self.dealer_top_card_value_str = \"A\"\n",
    "        elif dealer_card_value == 10:\n",
    "            self.dealer_top_card_value_str = self.np_random.choice([\"J\", \"Q\", \"K\"])\n",
    "        else:\n",
    "            self.dealer_top_card_value_str = str(dealer_card_value)\n",
    "\n",
    "        if self.render_mode == \"human\":\n",
    "            self.render()\n",
    "        return self._get_obs(), {}\n",
    "\n",
    "    def close(self):\n",
    "        if hasattr(self, \"screen\"):\n",
    "            import pygame\n",
    "\n",
    "            pygame.display.quit()\n",
    "            pygame.quit()"
   ]
  },
  {
   "cell_type": "code",
   "execution_count": 25,
   "id": "23f0821e",
   "metadata": {},
   "outputs": [],
   "source": [
    "env = BlackjackEnv(natural=True)"
   ]
  },
  {
   "cell_type": "code",
   "execution_count": 26,
   "id": "93a406ab",
   "metadata": {},
   "outputs": [],
   "source": [
    "ACTIONS = [0, 1, 2]\n",
    "\n",
    "def get_all_states():\n",
    "    states = []\n",
    "\n",
    "    for player_val in range(MIN_PLAYER_CARD_VALUE, MAX_PLAYER_CARD_VALUE + 1):\n",
    "        for dealer_val in range(MIN_DEALER_CARD_VALUE, MAX_DEALER_CARD_VALUE + 1):\n",
    "            states.append((player_val, dealer_val, 0))\n",
    "            if 12 <= player_val <= 21:\n",
    "                states.append((player_val, dealer_val, 1))\n",
    "                states.append((player_val, dealer_val, 2))\n",
    "\n",
    "    return states"
   ]
  },
  {
   "cell_type": "code",
   "execution_count": 27,
   "id": "52d6398e",
   "metadata": {},
   "outputs": [],
   "source": [
    "STATES = get_all_states()"
   ]
  },
  {
   "cell_type": "code",
   "execution_count": 28,
   "id": "b58ebfa7",
   "metadata": {},
   "outputs": [],
   "source": [
    "STATES_IDX = {s: i for i, s in enumerate(STATES)}"
   ]
  },
  {
   "cell_type": "code",
   "execution_count": 29,
   "id": "67cef0ff",
   "metadata": {},
   "outputs": [
    {
     "name": "stderr",
     "output_type": "stream",
     "text": [
      "alpha=0.001, epsilon=0.8, gamma=1: 100%|███████████████████████████████████████████████████████████████████████| 100000/100000 [00:09<00:00, 10688.23it/s]\n",
      "alpha=0.002, epsilon=0.8, gamma=1: 100%|███████████████████████████████████████████████████████████████████████| 100000/100000 [00:09<00:00, 10675.16it/s]\n",
      "alpha=0.003, epsilon=0.8, gamma=1: 100%|███████████████████████████████████████████████████████████████████████| 100000/100000 [00:09<00:00, 10703.55it/s]\n",
      "alpha=0.004, epsilon=0.8, gamma=1: 100%|███████████████████████████████████████████████████████████████████████| 100000/100000 [00:09<00:00, 10678.97it/s]\n",
      "alpha=0.001, epsilon=0.9, gamma=1: 100%|███████████████████████████████████████████████████████████████████████| 100000/100000 [00:09<00:00, 10714.48it/s]\n",
      "alpha=0.002, epsilon=0.9, gamma=1: 100%|███████████████████████████████████████████████████████████████████████| 100000/100000 [00:09<00:00, 10685.08it/s]\n",
      "alpha=0.003, epsilon=0.9, gamma=1: 100%|███████████████████████████████████████████████████████████████████████| 100000/100000 [00:09<00:00, 10696.40it/s]\n",
      "alpha=0.004, epsilon=0.9, gamma=1: 100%|███████████████████████████████████████████████████████████████████████| 100000/100000 [00:09<00:00, 10687.75it/s]\n"
     ]
    },
    {
     "name": "stdout",
     "output_type": "stream",
     "text": [
      "Best params: alpha=0.003, epsilon=0.8, gamma=1\n"
     ]
    }
   ],
   "source": [
    "epsilon_lst = np.arange(0.8, 1, 0.1)\n",
    "alpha_lst = np.arange(0.001, 0.005, 0.001)\n",
    "gamma = 1\n",
    "\n",
    "params = []\n",
    "mean_rewards = []\n",
    "for epsilon in epsilon_lst:\n",
    "    for alpha in alpha_lst:\n",
    "        Q = q_learning(alpha, epsilon, gamma)\n",
    "        rewards = check_q_learning_strategy(Q)\n",
    "        mean_reward = np.mean(rewards)\n",
    "        \n",
    "        params.append((alpha, epsilon, gamma))\n",
    "        mean_rewards.append(mean_reward)\n",
    "\n",
    "idx = np.argmax(mean_rewards)\n",
    "best_alpha, best_epsilon, best_gamma = params[idx]\n",
    "print(f\"Best params: alpha={best_alpha}, epsilon={best_epsilon}, gamma={best_gamma}\")"
   ]
  },
  {
   "cell_type": "code",
   "execution_count": 30,
   "id": "863b167b",
   "metadata": {},
   "outputs": [
    {
     "name": "stderr",
     "output_type": "stream",
     "text": [
      "alpha=0.003, epsilon=0.8, gamma=1: 100%|███████████████████████████████████████████████████████████████████████| 100000/100000 [00:09<00:00, 10675.81it/s]\n"
     ]
    },
    {
     "name": "stdout",
     "output_type": "stream",
     "text": [
      "Средняя награда  c  double (q-learning): -0.028045\n"
     ]
    }
   ],
   "source": [
    "Q = q_learning(best_alpha, best_epsilon, best_gamma)\n",
    "rewards = check_q_learning_strategy(Q)\n",
    "mean_reward = np.mean(rewards)\n",
    "print(f\"Средняя награда  c  double (q-learning): {mean_reward}\")"
   ]
  },
  {
   "cell_type": "code",
   "execution_count": 31,
   "id": "1129d02f",
   "metadata": {},
   "outputs": [
    {
     "name": "stderr",
     "output_type": "stream",
     "text": [
      "100%|█████████████████████████████████████████████████████████████████████████████████████████████████████████████████████| 30/30 [03:41<00:00,  7.38s/it]\n"
     ]
    },
    {
     "data": {
      "image/png": "[encoded data removed]",
      "text/plain": [
       "<Figure size 640x480 with 1 Axes>"
      ]
     },
     "metadata": {},
     "output_type": "display_data"
    }
   ],
   "source": [
    "plot()"
   ]
  },
  {
   "cell_type": "markdown",
   "id": "e07ec233",
   "metadata": {},
   "source": [
    "Средний доход должен увеличиваться, что на графике явно не видно. Возможно это связано с тем, что я уменьшил число раздач до 100 из-за того, что это требовало очень много времени посчитать для 10000 и тем более для 100000."
   ]
  },
  {
   "cell_type": "markdown",
   "id": "41f11b06",
   "metadata": {},
   "source": [
    "# Часть 3"
   ]
  },
  {
   "cell_type": "markdown",
   "id": "432b8d79",
   "metadata": {},
   "source": [
    "А теперь давайте вспомним, как играют в блекджек настоящие профессионалы. Дело в том, что в оффлайн-казино обычно не перемешивают колоду после каждой раздачи — это слишком замедляло бы игру. После раздачи карты просто раздаются дальше с верха колоды до тех пор, пока карт не останется слишком мало, и только тогда колода перемешивается; давайте для определённости считать, что наше казино будет перемешивать колоду, в которой осталось меньше 15 карт.\n",
    "\n",
    "Действительно, если вы будете запоминать, какие карты уже вышли, у вас будет информация о том, какие карты ещё остались, а это позволяет лучше понять, когда нужно удваивать ставку или делать split, а когда лучше не стоит. В настоящем казино могут раздавать карты сразу из нескольких колод, и заслуга Rain Man’а была в том, что он смог считать карты в шести колодах одновременно. Но мы с вами вооружены компьютерами, так что подсчёт можно считать автоматическим.  \n",
    "\n",
    "6. Реализуйте вариант окружения BlackjackEnv из предыдущей части (с удвоением), в котором игрок имеет возможность “считать карты” в колоде. Это можно сделать разными способами; возможно, вам поможет статья википедии о блекджеке (а возможно, и нет).  \n",
    "7. Реализуйте метод обучения с подкреплением без модели для этого варианта, постройте графики, аналогичные п.2.\n"
   ]
  },
  {
   "cell_type": "code",
   "execution_count": 32,
   "id": "1318cb69",
   "metadata": {},
   "outputs": [],
   "source": [
    "from typing import Optional\n",
    "\n",
    "import gym\n",
    "from gym import spaces\n",
    "\n",
    "\n",
    "def cmp(a, b):\n",
    "    return float(a > b) - float(a < b)\n",
    "\n",
    "\n",
    "# 1 = Ace, 2-10 = Number cards, Jack/Queen/King = 10\n",
    "deck = [1, 2, 3, 4, 5, 6, 7, 8, 9, 10, 10, 10, 10]\n",
    "\n",
    "card_counting_system = {\n",
    "    1: -1,\n",
    "    2: 0.5,\n",
    "    3: 1,\n",
    "    4: 1,\n",
    "    5: 1.5,\n",
    "    6: 1,\n",
    "    7: 0.5,\n",
    "    8: 0,\n",
    "    9: -0.5,\n",
    "    10: -1,\n",
    "}\n",
    "\n",
    "\n",
    "\n",
    "def usable_ace(hand):  # Does this hand have a usable ace?\n",
    "    return 1 in hand and sum(hand) + 10 <= 21\n",
    "\n",
    "\n",
    "def sum_hand(hand):  # Return current hand total\n",
    "    if usable_ace(hand):\n",
    "        return sum(hand) + 10\n",
    "    return sum(hand)\n",
    "\n",
    "\n",
    "def is_bust(hand):  # Is this hand a bust?\n",
    "    return sum_hand(hand) > 21\n",
    "\n",
    "\n",
    "def score(hand):  # What is the score of this hand (0 if bust)\n",
    "    return 0 if is_bust(hand) else sum_hand(hand)\n",
    "\n",
    "\n",
    "def is_natural(hand):  # Is this hand a natural blackjack?\n",
    "    return sorted(hand) == [1, 10]\n",
    "\n",
    "\n",
    "class BlackjackEnv(gym.Env):\n",
    "    \"\"\"\n",
    "    Blackjack is a card game where the goal is to beat the dealer by obtaining cards\n",
    "    that sum to closer to 21 (without going over 21) than the dealers cards.\n",
    "\n",
    "    ### Description\n",
    "    Card Values:\n",
    "\n",
    "    - Face cards (Jack, Queen, King) have a point value of 10.\n",
    "    - Aces can either count as 11 (called a 'usable ace') or 1.\n",
    "    - Numerical cards (2-9) have a value equal to their number.\n",
    "\n",
    "    This game is played with an infinite deck (or with replacement).\n",
    "    The game starts with the dealer having one face up and one face down card,\n",
    "    while the player has two face up cards.\n",
    "\n",
    "    The player can request additional cards (hit, action=1) until they decide to stop (stick, action=0)\n",
    "    or exceed 21 (bust, immediate loss).\n",
    "    After the player sticks, the dealer reveals their facedown card, and draws\n",
    "    until their sum is 17 or greater.  If the dealer goes bust, the player wins.\n",
    "    If neither the player nor the dealer busts, the outcome (win, lose, draw) is\n",
    "    decided by whose sum is closer to 21.\n",
    "\n",
    "    ### Action Space\n",
    "    There are two actions: stick (0), and hit (1).\n",
    "\n",
    "    ### Observation Space\n",
    "    The observation consists of a 3-tuple containing: the player's current sum,\n",
    "    the value of the dealer's one showing card (1-10 where 1 is ace),\n",
    "    and whether the player holds a usable ace (0 or 1).\n",
    "\n",
    "    This environment corresponds to the version of the blackjack problem\n",
    "    described in Example 5.1 in Reinforcement Learning: An Introduction\n",
    "    by Sutton and Barto (http://incompleteideas.net/book/the-book-2nd.html).\n",
    "\n",
    "    ### Rewards\n",
    "    - win game: +1\n",
    "    - lose game: -1\n",
    "    - draw game: 0\n",
    "    - win game with natural blackjack:\n",
    "\n",
    "        +1.5 (if <a href=\"#nat\">natural</a> is True)\n",
    "\n",
    "        +1 (if <a href=\"#nat\">natural</a> is False)\n",
    "\n",
    "    ### Arguments\n",
    "\n",
    "    ```\n",
    "    gym.make('Blackjack-v1', natural=False, sab=False)\n",
    "    ```\n",
    "\n",
    "    <a id=\"nat\">`natural=False`</a>: Whether to give an additional reward for\n",
    "    starting with a natural blackjack, i.e. starting with an ace and ten (sum is 21).\n",
    "\n",
    "    <a id=\"sab\">`sab=False`</a>: Whether to follow the exact rules outlined in the book by\n",
    "    Sutton and Barto. If `sab` is `True`, the keyword argument `natural` will be ignored.\n",
    "    If the player achieves a natural blackjack and the dealer does not, the player\n",
    "    will win (i.e. get a reward of +1). The reverse rule does not apply.\n",
    "    If both the player and the dealer get a natural, it will be a draw (i.e. reward 0).\n",
    "\n",
    "    ### Version History\n",
    "    * v0: Initial versions release (1.0.0)\n",
    "    \"\"\"\n",
    "\n",
    "    metadata = {\n",
    "        \"render_modes\": [\"human\", \"rgb_array\"],\n",
    "        \"render_fps\": 4,\n",
    "    }\n",
    "\n",
    "    def __init__(self, render_mode: Optional[str] = None, natural=False, sab=False):\n",
    "        self.action_space = spaces.Discrete(3)\n",
    "        self.observation_space = spaces.Tuple(\n",
    "            (spaces.Discrete(32), spaces.Discrete(11), spaces.Discrete(2))\n",
    "        )\n",
    "        \n",
    "        self.deck = deck * 4\n",
    "        self.count = 0\n",
    "\n",
    "        # Flag to payout 1.5 on a \"natural\" blackjack win, like casino rules\n",
    "        # Ref: http://www.bicyclecards.com/how-to-play/blackjack/\n",
    "        self.natural = natural\n",
    "\n",
    "        # Flag for full agreement with the (Sutton and Barto, 2018) definition. Overrides self.natural\n",
    "        self.sab = sab\n",
    "\n",
    "        self.render_mode = render_mode\n",
    "\n",
    "    def step(self, action):\n",
    "        assert self.action_space.contains(action)\n",
    "        if action == 1:  # hit: add a card to players hand and return\n",
    "            card = draw_card(self.np_random)\n",
    "            self.player.append(card)\n",
    "            self.count += card_counting_system[card]\n",
    "            if is_bust(self.player):\n",
    "                terminated = True\n",
    "                reward = -1.0\n",
    "            else:\n",
    "                terminated = False\n",
    "                reward = 0.0\n",
    "        elif action == 2:\n",
    "            card = draw_card(self.np_random)\n",
    "            self.player.append(card)\n",
    "            self.count += card_counting_system[card]\n",
    "            terminated = True\n",
    "            self.count += self.dealer[1]\n",
    "            while sum_hand(self.dealer) < 17:\n",
    "                card = draw_card(self.np_random)\n",
    "                self.dealer.append(card)\n",
    "                self.count += card_counting_system[card]\n",
    "            reward = 2 * cmp(score(self.player), score(self.dealer))\n",
    "        else:  # stick: play out the dealers hand, and score\n",
    "            terminated = True\n",
    "            self.count += self.dealer[1]\n",
    "            while sum_hand(self.dealer) < 17:\n",
    "                card = draw_card(self.np_random)\n",
    "                self.dealer.append(card)\n",
    "                self.count += card_counting_system[card]\n",
    "            reward = cmp(score(self.player), score(self.dealer))\n",
    "            if self.sab and is_natural(self.player) and not is_natural(self.dealer):\n",
    "                # Player automatically wins. Rules consistent with S&B\n",
    "                reward = 1.0\n",
    "            elif (\n",
    "                not self.sab\n",
    "                and self.natural\n",
    "                and is_natural(self.player)\n",
    "                and reward == 1.0\n",
    "            ):\n",
    "                # Natural gives extra points, but doesn't autowin. Legacy implementation\n",
    "                reward = 1.5\n",
    "\n",
    "        if self.render_mode == \"human\":\n",
    "            self.render()\n",
    "        return self._get_obs(), reward, terminated, False, {}\n",
    "\n",
    "    def _get_obs(self):\n",
    "        return (sum_hand(self.player), self.dealer[0], usable_ace(self.player))\n",
    "\n",
    "    def reset(\n",
    "        self,\n",
    "        seed: Optional[int] = None,\n",
    "        options: Optional[dict] = None,\n",
    "    ):\n",
    "        if len(self.deck) < 15:\n",
    "            self.deck = deck * 4\n",
    "            self.count = 0\n",
    "\n",
    "        super().reset(seed=seed)\n",
    "        self.dealer = draw_hand(self.np_random)\n",
    "        self.player = draw_hand(self.np_random)\n",
    "        \n",
    "        for card in self.player:\n",
    "            self.count += card_counting_system[card]\n",
    "        self.count += card_counting_system[self.dealer[0]]\n",
    "\n",
    "        _, dealer_card_value, _ = self._get_obs()\n",
    "\n",
    "        suits = [\"C\", \"D\", \"H\", \"S\"]\n",
    "        self.dealer_top_card_suit = self.np_random.choice(suits)\n",
    "\n",
    "        if dealer_card_value == 1:\n",
    "            self.dealer_top_card_value_str = \"A\"\n",
    "        elif dealer_card_value == 10:\n",
    "            self.dealer_top_card_value_str = self.np_random.choice([\"J\", \"Q\", \"K\"])\n",
    "        else:\n",
    "            self.dealer_top_card_value_str = str(dealer_card_value)\n",
    "\n",
    "        if self.render_mode == \"human\":\n",
    "            self.render()\n",
    "        return self._get_obs(), {}\n",
    "\n",
    "    def close(self):\n",
    "        if hasattr(self, \"screen\"):\n",
    "            import pygame\n",
    "\n",
    "            pygame.display.quit()\n",
    "            pygame.quit()\n",
    "\n",
    "    def draw_card(np_random):\n",
    "        return int(np_random.choice(self.deck))\n",
    "\n",
    "\n",
    "    def draw_hand(np_random):\n",
    "        return [draw_card(np_random), draw_card(np_random)]"
   ]
  },
  {
   "cell_type": "code",
   "execution_count": 33,
   "id": "c654d82e",
   "metadata": {},
   "outputs": [],
   "source": [
    "env = BlackjackEnv(natural=True)"
   ]
  },
  {
   "cell_type": "code",
   "execution_count": 34,
   "id": "0dbd71c7",
   "metadata": {},
   "outputs": [
    {
     "name": "stderr",
     "output_type": "stream",
     "text": [
      "alpha=0.001, epsilon=0.8, gamma=1: 100%|███████████████████████████████████████████████████████████████████████| 100000/100000 [00:09<00:00, 10494.49it/s]\n",
      "alpha=0.002, epsilon=0.8, gamma=1: 100%|███████████████████████████████████████████████████████████████████████| 100000/100000 [00:09<00:00, 10428.55it/s]\n",
      "alpha=0.003, epsilon=0.8, gamma=1: 100%|███████████████████████████████████████████████████████████████████████| 100000/100000 [00:09<00:00, 10507.81it/s]\n",
      "alpha=0.004, epsilon=0.8, gamma=1: 100%|███████████████████████████████████████████████████████████████████████| 100000/100000 [00:09<00:00, 10499.95it/s]\n",
      "alpha=0.001, epsilon=0.9, gamma=1: 100%|███████████████████████████████████████████████████████████████████████| 100000/100000 [00:09<00:00, 10385.42it/s]\n",
      "alpha=0.002, epsilon=0.9, gamma=1: 100%|███████████████████████████████████████████████████████████████████████| 100000/100000 [00:09<00:00, 10249.92it/s]\n",
      "alpha=0.003, epsilon=0.9, gamma=1: 100%|███████████████████████████████████████████████████████████████████████| 100000/100000 [00:09<00:00, 10269.78it/s]\n",
      "alpha=0.004, epsilon=0.9, gamma=1: 100%|███████████████████████████████████████████████████████████████████████| 100000/100000 [00:09<00:00, 10278.17it/s]\n"
     ]
    },
    {
     "name": "stdout",
     "output_type": "stream",
     "text": [
      "Best params: alpha=0.003, epsilon=0.9, gamma=1\n"
     ]
    }
   ],
   "source": [
    "epsilon_lst = np.arange(0.8, 1, 0.1)\n",
    "alpha_lst = np.arange(0.001, 0.005, 0.001)\n",
    "gamma = 1\n",
    "\n",
    "params = []\n",
    "mean_rewards = []\n",
    "for epsilon in epsilon_lst:\n",
    "    for alpha in alpha_lst:\n",
    "        Q = q_learning(alpha, epsilon, gamma)\n",
    "        rewards = check_q_learning_strategy(Q)\n",
    "        mean_reward = np.mean(rewards)\n",
    "        \n",
    "        params.append((alpha, epsilon, gamma))\n",
    "        mean_rewards.append(mean_reward)\n",
    "\n",
    "idx = np.argmax(mean_rewards)\n",
    "best_alpha, best_epsilon, best_gamma = params[idx]\n",
    "print(f\"Best params: alpha={best_alpha}, epsilon={best_epsilon}, gamma={best_gamma}\")"
   ]
  },
  {
   "cell_type": "code",
   "execution_count": 37,
   "id": "b73efb44",
   "metadata": {},
   "outputs": [
    {
     "name": "stderr",
     "output_type": "stream",
     "text": [
      "alpha=0.003, epsilon=0.9, gamma=1: 100%|███████████████████████████████████████████████████████████████████████| 100000/100000 [00:09<00:00, 10608.94it/s]\n"
     ]
    },
    {
     "name": "stdout",
     "output_type": "stream",
     "text": [
      "Средняя награда  c  double и подсчетом карт (q-learning): -0.03417\n"
     ]
    }
   ],
   "source": [
    "Q = q_learning(best_alpha, best_epsilon, best_gamma)\n",
    "rewards = check_q_learning_strategy(Q)\n",
    "mean_reward = np.mean(rewards)\n",
    "print(f\"Средняя награда  c  double и подсчетом карт (q-learning): {mean_reward}\")"
   ]
  },
  {
   "cell_type": "code",
   "execution_count": 36,
   "id": "3c1d67d0",
   "metadata": {},
   "outputs": [
    {
     "name": "stderr",
     "output_type": "stream",
     "text": [
      "100%|█████████████████████████████████████████████████████████████████████████████████████████████████████████████████████| 30/30 [03:52<00:00,  7.75s/it]\n"
     ]
    },
    {
     "data": {
      "image/png": "[encoded data removed]",
      "text/plain": [
       "<Figure size 640x480 with 1 Axes>"
      ]
     },
     "metadata": {},
     "output_type": "display_data"
    }
   ],
   "source": [
    "plot()"
   ]
  },
  {
   "cell_type": "markdown",
   "id": "e58f2e84",
   "metadata": {},
   "source": [
    "В итоге у меня получилось так, что с подсчетом карт средняя награда меньше. Но я думаю, если поиграться с параметрами побольше, то данная стратегия покажет себя лучше. Но, с другой стороны, мне кажется невозможно получить среднюю награду больше 0, иначе все бы играли в блек джек :)  \n",
    "В целом сравнивая графики видно, что стратегия с подсчетом карт показывает себя лучше. "
   ]
  },
  {
   "cell_type": "code",
   "execution_count": null,
   "id": "29ddab01",
   "metadata": {},
   "outputs": [],
   "source": []
  },
  {
   "cell_type": "code",
   "execution_count": null,
   "id": "8c2d2ec6",
   "metadata": {},
   "outputs": [],
   "source": []
  },
  {
   "cell_type": "code",
   "execution_count": null,
   "id": "7ac9acce",
   "metadata": {},
   "outputs": [],
   "source": []
  }
 ],
 "metadata": {
  "kernelspec": {
   "display_name": "Python 3 (ipykernel)",
   "language": "python",
   "name": "python3"
  },
  "language_info": {
   "codemirror_mode": {
    "name": "ipython",
    "version": 3
   },
   "file_extension": ".py",
   "mimetype": "text/x-python",
   "name": "python",
   "nbconvert_exporter": "python",
   "pygments_lexer": "ipython3",
   "version": "3.8.13"
  }
 },
 "nbformat": 4,
 "nbformat_minor": 5
}
